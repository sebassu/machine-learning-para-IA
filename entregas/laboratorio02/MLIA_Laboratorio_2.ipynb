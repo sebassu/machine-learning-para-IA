{
  "cells": [
    {
      "cell_type": "markdown",
      "metadata": {
        "id": "6dnz7fU3th39"
      },
      "source": [
        "# Laboratorio 2 - Clasificador de rostros"
      ]
    },
    {
      "cell_type": "markdown",
      "metadata": {
        "id": "23l6on1WtsUH"
      },
      "source": [
        "**Autores**\n",
        "\n",
        "*   [número_estudiante1] Nombre1, Apellido1\n",
        "*   [número_estudiante2] Nombre2, Apellido2\n",
        "*   [número_estudiante3] Nombre3, Apellido3"
      ]
    },
    {
      "cell_type": "markdown",
      "metadata": {
        "id": "RK05s2wOuUlG"
      },
      "source": [
        "**Formato de entrega**:\n",
        "\n",
        "* Esta misma notebook en formato .ipynb\n",
        "* Cambiar el nombre de la notebook por NumEst1_NumEst2_NumEst3_Lab_1.\n",
        "* Es importante que la notebook pueda ejecutarse sin problemas al seleccionar 'Ejecutar todo'.\n",
        "* Se considerará que sus datos pueden estar en otra localización.\n",
        "\n",
        "\n",
        "**Plazo de entrega**: hasta el Domingo 16/06 a las 23:59 horas a través de Aulas."
      ]
    },
    {
      "cell_type": "markdown",
      "source": [
        "**Objetivo**: implementar un algoritmo de clasificación que permita predecir si una imagen dada es un rostro o no."
      ],
      "metadata": {
        "id": "f3gWXrB8J4sp"
      }
    },
    {
      "cell_type": "markdown",
      "source": [
        "## Librerías"
      ],
      "metadata": {
        "id": "4bKDk0S2NgSf"
      }
    },
    {
      "cell_type": "code",
      "source": [
        "import os\n",
        "from tqdm import tqdm\n",
        "from time import time\n",
        "\n",
        "import random\n",
        "import numpy as np\n",
        "import matplotlib.pyplot as plt\n",
        "\n",
        "from skimage.exposure import equalize_hist\n",
        "\n",
        "from skimage.transform import integral_image\n",
        "from skimage.feature import haar_like_feature, haar_like_feature_coord\n",
        "\n",
        "from sklearn.feature_selection import SelectPercentile, f_classif"
      ],
      "metadata": {
        "id": "ok5jVlyOJyEx"
      },
      "execution_count": 34,
      "outputs": []
    },
    {
      "cell_type": "markdown",
      "source": [
        "## Funciones auxiliares"
      ],
      "metadata": {
        "id": "rDNFQiGAjpTc"
      }
    },
    {
      "cell_type": "code",
      "source": [
        "def extract_feature_image(img, feature_type=None, feature_coord=None):\n",
        "    \"\"\"Extrae las Haar features de la imagen\"\"\"\n",
        "    ii = integral_image(img)\n",
        "    return haar_like_feature(ii, 0, 0, ii.shape[0], ii.shape[1],\n",
        "                             feature_type=feature_type,\n",
        "                             feature_coord=feature_coord)"
      ],
      "metadata": {
        "id": "zglTUt0Ajss_"
      },
      "execution_count": 20,
      "outputs": []
    },
    {
      "cell_type": "markdown",
      "source": [
        "## Datos"
      ],
      "metadata": {
        "id": "bbnCbyXkZZ3K"
      }
    },
    {
      "cell_type": "markdown",
      "source": [
        "**CBCL FACE DATABASE #1**:\n",
        "\n",
        "*   19 x 19 Grayscale PGM format images\n",
        "*   Training set:  2429 faces, 4548 non-faces\n",
        "*   Test set: 472 faces, 23573 non-faces\n",
        "\n"
      ],
      "metadata": {
        "id": "8u67Z7sfZlSa"
      }
    },
    {
      "cell_type": "code",
      "source": [
        "!unzip /content/CBCL.zip"
      ],
      "metadata": {
        "id": "L-DKI06odmeD"
      },
      "execution_count": null,
      "outputs": []
    },
    {
      "cell_type": "code",
      "source": [
        "suffix = '.pgm'\n",
        "\n",
        "train_faces = os.listdir('/content/train/face')\n",
        "train_faces = [filename for filename in train_faces if filename.endswith(suffix)]\n",
        "\n",
        "train_background = os.listdir('/content/train/non-face')\n",
        "train_background = [filename for filename in train_background if filename.endswith(suffix)]\n",
        "\n",
        "test_faces = os.listdir('/content/test/face')\n",
        "test_faces = [filename for filename in test_faces if filename.endswith(suffix)]\n",
        "\n",
        "test_background = os.listdir('/content/test/non-face')\n",
        "test_background = [filename for filename in test_background if filename.endswith(suffix)]"
      ],
      "metadata": {
        "id": "bdpH_jV5ZbRU"
      },
      "execution_count": 3,
      "outputs": []
    },
    {
      "cell_type": "code",
      "source": [
        "print(f'# Train Faces: {len(train_faces)}')\n",
        "print(f'# Train Back: {len(train_background)}')\n",
        "print(f'# Test Faces: {len(test_faces)}')\n",
        "print(f'# Test Back: {len(test_background)}')"
      ],
      "metadata": {
        "colab": {
          "base_uri": "https://localhost:8080/"
        },
        "id": "HHip0ImueHrr",
        "outputId": "72ca0eb4-8885-464e-ae10-3337fc0baee9"
      },
      "execution_count": 4,
      "outputs": [
        {
          "output_type": "stream",
          "name": "stdout",
          "text": [
            "# Train Faces: 2429\n",
            "# Train Back: 4548\n",
            "# Test Faces: 472\n",
            "# Test Back: 23573\n"
          ]
        }
      ]
    },
    {
      "cell_type": "code",
      "source": [
        "# Tomaremos una fracción de los datos. Puede ajustar estos parámetros a gusto\n",
        "f = 0.2\n",
        "n_face = int(f*len(train_faces))\n",
        "n_back = int(f*len(train_background))\n",
        "\n",
        "# Para mantener la proporción de background en test calculamos:\n",
        "m = int(np.round(len(test_faces)*len(train_background)/len(train_faces)))\n",
        "\n",
        "print(f'# Train Faces Sample Size: {n_face}')\n",
        "print(f'# Train Back Sample Size: {n_back}')\n",
        "print(f'# m: {m}')"
      ],
      "metadata": {
        "colab": {
          "base_uri": "https://localhost:8080/"
        },
        "id": "PLmacBHxeosE",
        "outputId": "62f79356-6980-4285-ef0a-c1bdab89b8ca"
      },
      "execution_count": 5,
      "outputs": [
        {
          "output_type": "stream",
          "name": "stdout",
          "text": [
            "# Train Faces Sample Size: 485\n",
            "# Train Back Sample Size: 909\n",
            "# m: 884\n"
          ]
        }
      ]
    },
    {
      "cell_type": "code",
      "source": [
        "sample_train_faces = random.sample(train_faces,n_face)\n",
        "\n",
        "Im_train = []\n",
        "for filename in tqdm(sample_train_faces):\n",
        "    path = '/content/train/face/' + filename\n",
        "    with open(path, 'rb') as pgmf:\n",
        "        image = plt.imread(pgmf)\n",
        "    Im_train.append(image)\n",
        "\n",
        "n_train_faces = len(Im_train)\n",
        "y_train = [1]*n_train_faces"
      ],
      "metadata": {
        "colab": {
          "base_uri": "https://localhost:8080/"
        },
        "id": "ddhdopNyfbUY",
        "outputId": "fd41eb3a-cddc-47a1-b852-ad708fe6d4d4"
      },
      "execution_count": 10,
      "outputs": [
        {
          "output_type": "stream",
          "name": "stderr",
          "text": [
            "100%|██████████| 485/485 [00:00<00:00, 3876.11it/s]\n"
          ]
        }
      ]
    },
    {
      "cell_type": "code",
      "source": [
        "sample_train_background = random.sample(train_background,n_back)\n",
        "\n",
        "for filename in tqdm(sample_train_background):\n",
        "    path = \"/content/train/non-face/\" + filename\n",
        "    with open(path, 'rb') as pgmf:\n",
        "        image = plt.imread(pgmf)\n",
        "    Im_train.append(image)\n",
        "\n",
        "n_train_background = len(Im_train)-n_train_faces\n",
        "y_train = y_train + [0]*n_train_background"
      ],
      "metadata": {
        "colab": {
          "base_uri": "https://localhost:8080/"
        },
        "id": "yxnalfyXhlp-",
        "outputId": "d9be9bae-1ef8-48fd-bf9b-148f9826c6de"
      },
      "execution_count": 13,
      "outputs": [
        {
          "output_type": "stream",
          "name": "stderr",
          "text": [
            "100%|██████████| 909/909 [00:00<00:00, 5934.85it/s]\n"
          ]
        }
      ]
    },
    {
      "cell_type": "code",
      "source": [
        "print(f'# Train: {len(Im_train)}, {len(y_train)}')"
      ],
      "metadata": {
        "colab": {
          "base_uri": "https://localhost:8080/"
        },
        "id": "kPdH24YiiORO",
        "outputId": "9bfc0f4b-ad10-4235-9c9e-fcf57fd771e3"
      },
      "execution_count": 15,
      "outputs": [
        {
          "output_type": "stream",
          "name": "stdout",
          "text": [
            "# Train: 1394, 1394\n"
          ]
        }
      ]
    },
    {
      "cell_type": "code",
      "source": [
        "Im_test = []\n",
        "for filename in tqdm(test_faces):\n",
        "    path = \"/content/test/face/\" + filename\n",
        "    with open(path, 'rb') as pgmf:\n",
        "        image = plt.imread(pgmf)\n",
        "    Im_test.append(image)\n",
        "\n",
        "n_test_faces = len(Im_test)\n",
        "y_test = [1]*n_test_faces"
      ],
      "metadata": {
        "colab": {
          "base_uri": "https://localhost:8080/"
        },
        "id": "2MhJTtUUg91B",
        "outputId": "08868097-ec40-4fdd-d0c1-d689cd035726"
      },
      "execution_count": 11,
      "outputs": [
        {
          "output_type": "stream",
          "name": "stderr",
          "text": [
            "100%|██████████| 472/472 [00:00<00:00, 3754.54it/s]\n"
          ]
        }
      ]
    },
    {
      "cell_type": "code",
      "source": [
        "sample_test_background = random.sample(test_background,m)\n",
        "\n",
        "for filename in tqdm(sample_test_background):\n",
        "    path = \"/content/test/non-face/\" + filename\n",
        "    with open(path, 'rb') as pgmf:\n",
        "        image = plt.imread(pgmf)\n",
        "    Im_test.append(image)\n",
        "\n",
        "n_test_background = len(Im_test)-n_test_faces\n",
        "y_test = y_test + [0]*n_test_background"
      ],
      "metadata": {
        "colab": {
          "base_uri": "https://localhost:8080/"
        },
        "id": "PC0Jm2vwhI02",
        "outputId": "6a309f22-1186-428e-b0e4-770ade073427"
      },
      "execution_count": 12,
      "outputs": [
        {
          "output_type": "stream",
          "name": "stderr",
          "text": [
            "100%|██████████| 884/884 [00:00<00:00, 3462.70it/s]\n"
          ]
        }
      ]
    },
    {
      "cell_type": "code",
      "source": [
        "print(f'# Test: {len(Im_test)}, {len(y_test)}')"
      ],
      "metadata": {
        "colab": {
          "base_uri": "https://localhost:8080/"
        },
        "id": "pIjTmQO1hcZs",
        "outputId": "5f72bd79-d3b4-468b-e957-eff82fd72a35"
      },
      "execution_count": 16,
      "outputs": [
        {
          "output_type": "stream",
          "name": "stdout",
          "text": [
            "# Test: 1356, 1356\n"
          ]
        }
      ]
    },
    {
      "cell_type": "markdown",
      "source": [
        "## Histogram equalization"
      ],
      "metadata": {
        "id": "RbVKuib2i0RY"
      }
    },
    {
      "cell_type": "code",
      "source": [
        "Im_train_norm = [equalize_hist(image) for image in Im_train]\n",
        "Im_test_norm = [equalize_hist(image) for image in Im_test]"
      ],
      "metadata": {
        "id": "QryhJZUjikXn"
      },
      "execution_count": 18,
      "outputs": []
    },
    {
      "cell_type": "markdown",
      "source": [
        "## Matriz de features"
      ],
      "metadata": {
        "id": "ZkhnPcPQjZpa"
      }
    },
    {
      "cell_type": "markdown",
      "source": [
        "### Calculamos y seleccionamos las mejores features en entrenamiento"
      ],
      "metadata": {
        "id": "46ddsHxBkuek"
      }
    },
    {
      "cell_type": "code",
      "source": [
        "X_train = [extract_feature_image(img) for img in tqdm(Im_train_norm)]\n",
        "X_train = np.array(X_train)"
      ],
      "metadata": {
        "colab": {
          "base_uri": "https://localhost:8080/"
        },
        "id": "Jiw5r5VmjT2d",
        "outputId": "f4adc9c6-55b9-4f15-9147-09c1333ba9c3"
      },
      "execution_count": 21,
      "outputs": [
        {
          "output_type": "stream",
          "name": "stderr",
          "text": [
            "100%|██████████| 1394/1394 [04:10<00:00,  5.56it/s]\n"
          ]
        }
      ]
    },
    {
      "cell_type": "code",
      "source": [
        "# Pueden guardar la matriz si lo desean\n",
        "np.save('X_train', X_train)"
      ],
      "metadata": {
        "id": "BrVbHHf4k-aV"
      },
      "execution_count": 22,
      "outputs": []
    },
    {
      "cell_type": "code",
      "source": [
        "# Y cargarla posteriormente\n",
        "X_train = np.load('X_train.npy')"
      ],
      "metadata": {
        "id": "QReKG42Wms_Z"
      },
      "execution_count": 24,
      "outputs": []
    },
    {
      "cell_type": "code",
      "source": [
        "X_train.shape"
      ],
      "metadata": {
        "colab": {
          "base_uri": "https://localhost:8080/"
        },
        "id": "efa7MY-SnSiU",
        "outputId": "e23eeb69-78c4-436e-a405-409a008c2f4b"
      },
      "execution_count": 25,
      "outputs": [
        {
          "output_type": "execute_result",
          "data": {
            "text/plain": [
              "(1394, 63960)"
            ]
          },
          "metadata": {},
          "execution_count": 25
        }
      ]
    },
    {
      "cell_type": "code",
      "source": [
        "print(\"Seleccionando las features de mayor dependencia lineal con y\")\n",
        "t_start = time()\n",
        "f_indices = SelectPercentile(f_classif, percentile=1).fit(X_train, y_train).get_support(indices=True)\n",
        "t = time() - t_start\n",
        "X_train = X_train[:,f_indices]\n",
        "print(\"Seleccionadas %d features potenciales\" % X_train.shape[1])\n",
        "print(f'Tiempo: {t} segundos')"
      ],
      "metadata": {
        "colab": {
          "base_uri": "https://localhost:8080/"
        },
        "id": "kGad6yrdnUfY",
        "outputId": "91b514ce-051b-4a6b-83a2-17d550bb0120"
      },
      "execution_count": 31,
      "outputs": [
        {
          "output_type": "stream",
          "name": "stdout",
          "text": [
            "Seleccionando las features de mayor dependencia lineal con y\n",
            "Seleccionadas 640 features potenciales\n",
            "Tiempo: 1.376927137374878 segundos\n"
          ]
        }
      ]
    },
    {
      "cell_type": "markdown",
      "source": [
        "### Calculamos dichas features para test"
      ],
      "metadata": {
        "id": "ohhMH7r9ppAY"
      }
    },
    {
      "cell_type": "code",
      "source": [
        "feature_coord, feature_type = haar_like_feature_coord(width=19,\n",
        "                                                      height=19,\n",
        "                                                      )"
      ],
      "metadata": {
        "id": "unvKKgd6pXg5"
      },
      "execution_count": 35,
      "outputs": []
    },
    {
      "cell_type": "code",
      "source": [
        "t_start = time()\n",
        "X_test = [extract_feature_image(img,\n",
        "                                feature_type=feature_type[f_indices],\n",
        "                                feature_coord=feature_coord[f_indices]) for img in tqdm(Im_test_norm)]\n",
        "t = time() - t_start\n",
        "X_test = np.array(X_test)"
      ],
      "metadata": {
        "colab": {
          "base_uri": "https://localhost:8080/"
        },
        "id": "V9W35ACvp-45",
        "outputId": "fc7b153e-2fcb-4e23-9057-a9a136bd403e"
      },
      "execution_count": 36,
      "outputs": [
        {
          "output_type": "stream",
          "name": "stderr",
          "text": [
            "100%|██████████| 1356/1356 [00:01<00:00, 704.43it/s]\n"
          ]
        }
      ]
    },
    {
      "cell_type": "code",
      "source": [
        "print(f'Tiempo: {t} segundos')\n",
        "print(f'Shape X_test: {X_test.shape}')"
      ],
      "metadata": {
        "colab": {
          "base_uri": "https://localhost:8080/"
        },
        "id": "P1SzHpikqYpT",
        "outputId": "acffb903-95ae-43a8-dd60-55878ba319f3"
      },
      "execution_count": 37,
      "outputs": [
        {
          "output_type": "stream",
          "name": "stdout",
          "text": [
            "Tiempo: 1.936858892440796 segundos\n",
            "Shape X_test: (1356, 640)\n"
          ]
        }
      ]
    },
    {
      "cell_type": "code",
      "source": [],
      "metadata": {
        "id": "2h0UhPoUqk27"
      },
      "execution_count": null,
      "outputs": []
    }
  ],
  "metadata": {
    "kernelspec": {
      "display_name": "base",
      "language": "python",
      "name": "python3"
    },
    "language_info": {
      "codemirror_mode": {
        "name": "ipython",
        "version": 3
      },
      "file_extension": ".py",
      "mimetype": "text/x-python",
      "name": "python",
      "nbconvert_exporter": "python",
      "pygments_lexer": "ipython3",
      "version": "3.8.15"
    },
    "colab": {
      "provenance": []
    }
  },
  "nbformat": 4,
  "nbformat_minor": 0
}